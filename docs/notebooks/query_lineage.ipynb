{
 "cells": [
  {
   "cell_type": "markdown",
   "id": "f791b70f",
   "metadata": {},
   "source": [
    "# orthomap: Step 1 - get taxonomic information\n",
    "\n",
    "This notebook will demonstrate how to get taxonomic information for your query species with `orthomap`.\n",
    "\n",
    "Given a species name or taxonomic ID, the query species lineage information is extracted with the help of the `ete3` python toolkit and the `NCBI taxonomy` ([Huerta-Cepas et al., 2016](https://doi.org/10.1093/molbev/msw046)). This information is needed alongside with the taxonomic classifications for all species used in the OrthoFinder comparison."
   ]
  },
  {
   "cell_type": "markdown",
   "id": "b722f9d1",
   "metadata": {},
   "source": [
    "__Note:__ If you need to download or update the NCBI taxonomy database via the `ete3` python package. Please use the `orthomap` command line function [ncbitax](https://orthomap.readthedocs.io/en/latest/tutorials/commandline.ncbitax.html) or run the following code:"
   ]
  },
  {
   "cell_type": "raw",
   "id": "07acee84",
   "metadata": {},
   "source": [
    "# import submodule\n",
    "from orthomap import ncbitax\n",
    "ncbitax.update_ncbi()"
   ]
  },
  {
   "cell_type": "markdown",
   "id": "3087d74b",
   "metadata": {},
   "source": [
    "## Notebook file\n",
    "\n",
    "Notebook file can be obtained here:\n",
    "\n",
    "[https://raw.githubusercontent.com/kullrich/orthomap/main/docs/notebooks/query_lineage.ipynb](https://raw.githubusercontent.com/kullrich/orthomap/main/docs/notebooks/query_lineage.ipynb)"
   ]
  },
  {
   "cell_type": "markdown",
   "id": "4aeb52cf",
   "metadata": {},
   "source": [
    "## Import libraries"
   ]
  },
  {
   "cell_type": "code",
   "execution_count": 1,
   "id": "c437db69",
   "metadata": {},
   "outputs": [],
   "source": [
    "import numpy as np\n",
    "import pandas as pd\n",
    "import scanpy as sc\n",
    "import seaborn as sns\n",
    "import matplotlib.pyplot as plt\n",
    "from statannot import add_stat_annotation\n",
    "# increase dpi\n",
    "%matplotlib inline\n",
    "#plt.rcParams['figure.dpi'] = 300\n",
    "#plt.rcParams['savefig.dpi'] = 300\n",
    "plt.rcParams['figure.figsize'] = [6, 4.5]\n",
    "#plt.rcParams['figure.figsize'] = [4.4, 3.3]"
   ]
  },
  {
   "cell_type": "markdown",
   "id": "3b5c6174",
   "metadata": {},
   "source": [
    "## Import orthomap python package submodules"
   ]
  },
  {
   "cell_type": "code",
   "execution_count": 2,
   "id": "c8e631aa",
   "metadata": {},
   "outputs": [],
   "source": [
    "# import submodules\n",
    "from orthomap import qlin, gtf2t2g, of2orthomap, orthomap2tei, datasets"
   ]
  },
  {
   "cell_type": "markdown",
   "id": "b49a7a9d",
   "metadata": {},
   "source": [
    "## Get query species taxonomic lineage information\n",
    "\n",
    "The `orthomap` submodule `qlin` helps to get taxonomic information for you with the `qlin.get_qlin()` function as follows:"
   ]
  },
  {
   "cell_type": "code",
   "execution_count": 3,
   "id": "cb83ffa1",
   "metadata": {},
   "outputs": [
    {
     "name": "stdout",
     "output_type": "stream",
     "text": [
      "query name: Caenorhabditis elegans\n",
      "query taxID: 6239\n",
      "query kingdom: Eukaryota\n",
      "query lineage names: \n",
      "['root(1)', 'cellular organisms(131567)', 'Eukaryota(2759)', 'Opisthokonta(33154)', 'Metazoa(33208)', 'Eumetazoa(6072)', 'Bilateria(33213)', 'Protostomia(33317)', 'Ecdysozoa(1206794)', 'Nematoda(6231)', 'Chromadorea(119089)', 'Rhabditida(6236)', 'Rhabditina(2301116)', 'Rhabditomorpha(2301119)', 'Rhabditoidea(55879)', 'Rhabditidae(6243)', 'Peloderinae(55885)', 'Caenorhabditis(6237)', 'Caenorhabditis elegans(6239)']\n",
      "query lineage: \n",
      "[1, 131567, 2759, 33154, 33208, 6072, 33213, 33317, 1206794, 6231, 119089, 6236, 2301116, 2301119, 55879, 6243, 55885, 6237, 6239]\n"
     ]
    }
   ],
   "source": [
    "# get query species taxonomic lineage information\n",
    "query_lineage = qlin.get_qlin(q='Caenorhabditis elegans')"
   ]
  },
  {
   "cell_type": "markdown",
   "id": "f55223cc",
   "metadata": {},
   "source": [
    "## Get query species lineage as a tree object"
   ]
  },
  {
   "cell_type": "code",
   "execution_count": 4,
   "id": "84b76ec6",
   "metadata": {},
   "outputs": [
    {
     "name": "stdout",
     "output_type": "stream",
     "text": [
      "\n",
      "                                                      /- /-18/6239/Caenorhabditis elegans\n",
      "                                                   /-|\n",
      "                                                /-|   \\-17/6237/Caenorhabditis\n",
      "                                               |  |\n",
      "                                             /-|   \\-16/55885/Peloderinae\n",
      "                                            |  |\n",
      "                                          /-|   \\-15/6243/Rhabditidae\n",
      "                                         |  |\n",
      "                                       /-|   \\-14/55879/Rhabditoidea\n",
      "                                      |  |\n",
      "                                    /-|   \\-13/2301119/Rhabditomorpha\n",
      "                                   |  |\n",
      "                                 /-|   \\-12/2301116/Rhabditina\n",
      "                                |  |\n",
      "                              /-|   \\-11/6236/Rhabditida\n",
      "                             |  |\n",
      "                           /-|   \\-10/119089/Chromadorea\n",
      "                          |  |\n",
      "                        /-|   \\-9/6231/Nematoda\n",
      "                       |  |\n",
      "                     /-|   \\-8/1206794/Ecdysozoa\n",
      "                    |  |\n",
      "                  /-|   \\-7/33317/Protostomia\n",
      "                 |  |\n",
      "               /-|   \\-6/33213/Bilateria\n",
      "              |  |\n",
      "            /-|   \\-5/6072/Eumetazoa\n",
      "           |  |\n",
      "         /-|   \\-4/33208/Metazoa\n",
      "        |  |\n",
      "      /-|   \\-3/33154/Opisthokonta\n",
      "     |  |\n",
      "   /-|   \\-2/2759/Eukaryota\n",
      "  |  |\n",
      "--|   \\-1/131567/cellular organisms\n",
      "  |\n",
      "   \\-0/1/root\n"
     ]
    }
   ],
   "source": [
    "lineage_tree = qlin.get_lineage_topo(qt='6239')\n",
    "print(lineage_tree)"
   ]
  },
  {
   "cell_type": "markdown",
   "id": "ed2f9d7c",
   "metadata": {},
   "source": [
    "If you like to continue, please have a look at the documentation of [Step 2 - gene age class assignment](https://orthomap.readthedocs.io/en/latest/tutorials/get_orthomap.html) to get further insides."
   ]
  }
 ],
 "metadata": {
  "kernelspec": {
   "display_name": "Python [conda env:scanpy]",
   "language": "python",
   "name": "conda-env-scanpy-py"
  },
  "language_info": {
   "codemirror_mode": {
    "name": "ipython",
    "version": 3
   },
   "file_extension": ".py",
   "mimetype": "text/x-python",
   "name": "python",
   "nbconvert_exporter": "python",
   "pygments_lexer": "ipython3",
   "version": "3.8.15"
  }
 },
 "nbformat": 4,
 "nbformat_minor": 5
}
