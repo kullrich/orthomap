{
 "cells": [
  {
   "cell_type": "markdown",
   "id": "989a5fa8",
   "metadata": {},
   "source": [
    "# orthomap: Step 2 - gene age class assignment\n",
    "\n",
    "This notebook will demonstrate how to extract an orthomap (gene age class) from [OrthoFinder](https://orthomap.readthedocs.io/en/latest/tutorials/https://github.com/davidemms/OrthoFinder) results or how to import pre-calculated orthomaps."
   ]
  },
  {
   "cell_type": "markdown",
   "id": "6e3c6084",
   "metadata": {},
   "source": [
    "## Notebook file\n",
    "\n",
    "Notebook file can be obtained here:\n",
    "\n",
    "[https://raw.githubusercontent.com/kullrich/orthomap/main/docs/notebooks/get_orthomap.ipynb](https://raw.githubusercontent.com/kullrich/orthomap/main/docs/notebooks/get_orthomap.ipynb)"
   ]
  },
  {
   "cell_type": "markdown",
   "id": "c2a60baf",
   "metadata": {},
   "source": [
    "## Import libraries"
   ]
  },
  {
   "cell_type": "code",
   "execution_count": 1,
   "id": "7b0cd487",
   "metadata": {},
   "outputs": [],
   "source": [
    "import numpy as np\n",
    "import pandas as pd\n",
    "import scanpy as sc\n",
    "import seaborn as sns\n",
    "import matplotlib.pyplot as plt\n",
    "from statannot import add_stat_annotation\n",
    "# increase dpi\n",
    "%matplotlib inline\n",
    "#plt.rcParams['figure.dpi'] = 300\n",
    "#plt.rcParams['savefig.dpi'] = 300\n",
    "plt.rcParams['figure.figsize'] = [6, 4.5]\n",
    "#plt.rcParams['figure.figsize'] = [4.4, 3.3]"
   ]
  },
  {
   "cell_type": "markdown",
   "id": "d840912f",
   "metadata": {},
   "source": [
    "## Import orthomap python package submodules"
   ]
  },
  {
   "cell_type": "code",
   "execution_count": 2,
   "id": "04cfd2b9",
   "metadata": {},
   "outputs": [],
   "source": [
    "# import submodules\n",
    "from orthomap import qlin, gtf2t2g, of2orthomap, orthomap2tei, datasets"
   ]
  },
  {
   "cell_type": "markdown",
   "id": "492b36a6",
   "metadata": {},
   "source": [
    "## Use OrthoFinder results to get gene age classification"
   ]
  },
  {
   "cell_type": "markdown",
   "id": "d29bf9e2",
   "metadata": {},
   "source": [
    "The query species in this part is: __*Danio rerio*__ (zebrafish).\n",
    "\n",
    "Please have a look at the documentation of [Step 0 - run OrthoFinder](https://orthomap.readthedocs.io/en/latest/tutorials/orthofinder.html) to get to know what information and files are mandatory to extract gene age classes from [OrthoFinder](https://orthomap.readthedocs.io/en/latest/tutorials/https://github.com/davidemms/OrthoFinder) results.\n",
    "\n",
    "__Mandatory query species information:__\n",
    "\n",
    "- query species sequence name (see header of <Orthogroups.GeneCount.tsv> or <Orthogroups.tsv> file) (`seqname=`)\n",
    "- query species taxonomic ID (`qt=`)\n",
    "\n",
    "__Mandatory information from [OrthoFinder](https://orthomap.readthedocs.io/en/latest/tutorials/https://github.com/davidemms/OrthoFinder) run:__\n",
    "\n",
    "- tab delimted file containing sequence name and taxonomic IDs of all species used (`<OrthoFinder name><tab><species taxID>`) (`sl=`)\n",
    "\n",
    "__Mandatory files from [OrthoFinder](https://orthomap.readthedocs.io/en/latest/tutorials/https://github.com/davidemms/OrthoFinder):__\n",
    "\n",
    "- <Orthogroups.GeneCount.tsv> or <Orthogroups.GeneCount.tsv.zip> (`oc=`)\n",
    "- <Orthogroups.tsv> or <Orthogroups.tsv.zip> (`og=`)\n",
    "\n",
    "In [Step 1 - get taxonomic information](https://orthomap.readthedocs.io/en/latest/tutorials/query_lineage.html) you have already been introduced how to extract query lineage information with `orthomap` and the `qlin.get_qlin()` function."
   ]
  },
  {
   "cell_type": "code",
   "execution_count": 3,
   "id": "bed83044",
   "metadata": {},
   "outputs": [
    {
     "name": "stdout",
     "output_type": "stream",
     "text": [
      "query name: Danio rerio\n",
      "query taxID: 7955\n",
      "query kingdom: Eukaryota\n",
      "query lineage names: \n",
      "['root(1)', 'cellular organisms(131567)', 'Eukaryota(2759)', 'Opisthokonta(33154)', 'Metazoa(33208)', 'Eumetazoa(6072)', 'Bilateria(33213)', 'Deuterostomia(33511)', 'Chordata(7711)', 'Craniata(89593)', 'Vertebrata(7742)', 'Gnathostomata(7776)', 'Teleostomi(117570)', 'Euteleostomi(117571)', 'Actinopterygii(7898)', 'Actinopteri(186623)', 'Neopterygii(41665)', 'Teleostei(32443)', 'Osteoglossocephalai(1489341)', 'Clupeocephala(186625)', 'Otomorpha(186634)', 'Ostariophysi(32519)', 'Otophysi(186626)', 'Cypriniphysae(186627)', 'Cypriniformes(7952)', 'Cyprinoidei(30727)', 'Danionidae(2743709)', 'Danioninae(2743711)', 'Danio(7954)', 'Danio rerio(7955)']\n",
      "query lineage: \n",
      "[1, 131567, 2759, 33154, 33208, 6072, 33213, 33511, 7711, 89593, 7742, 7776, 117570, 117571, 7898, 186623, 41665, 32443, 1489341, 186625, 186634, 32519, 186626, 186627, 7952, 30727, 2743709, 2743711, 7954, 7955]\n"
     ]
    }
   ],
   "source": [
    "# get query species taxonomic lineage information\n",
    "query_lineage = qlin.get_qlin(q='Danio rerio')"
   ]
  },
  {
   "cell_type": "markdown",
   "id": "eb294245",
   "metadata": {},
   "source": [
    "## Ensembl release-105\n",
    "\n",
    "For this documentation part all mandatory [OrthoFinder](https://orthomap.readthedocs.io/en/latest/tutorials/https://github.com/davidemms/OrthoFinder) ([Emms and Kelly, 2019](https://doi.org/10.1186/s13059-019-1832-y)) results have been pre-calculated. \n",
    "\n",
    "[OrthoFinder](https://orthomap.readthedocs.io/en/latest/tutorials/https://github.com/davidemms/OrthoFinder) was run with the option `-S diamond_ultra_sens` using translated, longest-isoform coding sequences (CDS) from [Ensembl release-105](https://ftp.ensembl.org/pub/release-105/) including species taxonomic IDs.\n",
    "\n",
    "The results are available here: \n",
    "\n",
    "https://doi.org/10.5281/zenodo.7242264\n",
    "\n",
    "or can be accessed with the `dataset` submodule of `orthomap`\n",
    "\n",
    "`datasets.ensembl105(datapath='data')` (download folder set to `'data'`).\n",
    "\n",
    "__Note:__ If you want to use your own [OrthoFinder](https://orthomap.readthedocs.io/en/latest/tutorials/https://github.com/davidemms/OrthoFinder) results, please have a look at the documentation of [Step 0 - run OrthoFinder](https://orthomap.readthedocs.io/en/latest/tutorials/orthofinder.html)."
   ]
  },
  {
   "cell_type": "code",
   "execution_count": 4,
   "id": "c4ba3fb0",
   "metadata": {},
   "outputs": [
    {
     "name": "stdout",
     "output_type": "stream",
     "text": [
      "100% [..............................................................................] 15662 / 15662"
     ]
    },
    {
     "data": {
      "text/plain": [
       "['data/ensembl_105_orthofinder_Orthogroups.GeneCount.tsv.zip',\n",
       " 'data/ensembl_105_orthofinder_Orthogroups.tsv.zip',\n",
       " 'data/ensembl_105_orthofinder_species_list.tsv']"
      ]
     },
     "execution_count": 4,
     "metadata": {},
     "output_type": "execute_result"
    }
   ],
   "source": [
    "datasets.ensembl105(datapath='data')"
   ]
  },
  {
   "cell_type": "markdown",
   "id": "3a998c1b",
   "metadata": {},
   "source": [
    "Here, `orthomap` use the query species information and [OrthoFinder](https://orthomap.readthedocs.io/en/latest/tutorials/https://github.com/davidemms/OrthoFinder) results to extract the oldest common tree node per orthogroup along a species tree and to assign this node as the gene age to the corresponding genes.\n",
    "\n",
    "In a pairwise manner, the query species and any other species in the [OrthoFinder](https://orthomap.readthedocs.io/en/latest/tutorials/https://github.com/davidemms/OrthoFinder) result might share multiple tree nodes down to the root of the species tree, but have only one youngest tree node in common. Among all possible comparison between the query species and the other species, the oldest as defined by the species tree root is selected and used for the gene age assignment.\n",
    "\n",
    "Given the `query species sequence name` (`seqname=`) used in the [OrthoFinder](https://orthomap.readthedocs.io/en/latest/tutorials/https://github.com/davidemms/OrthoFinder) comparison, the `query species taxonomic ID`(`qt=`), the `taxonomic IDs of all species` from the <species_list.tsv> file (`sl=`) used in the [OrthoFinder](https://orthomap.readthedocs.io/en/latest/tutorials/https://github.com/davidemms/OrthoFinder) comparison, the `orthogroup gene count` <Orthogroups.GeneCount.tsv> file (`oc=`) results and the `orthogroups` <Orthogroups.tsv> file (`og=`), an orthomap is constructed.\n",
    "\n",
    "__Note:__ This step can take up to five minutes, depending on your hardware."
   ]
  },
  {
   "cell_type": "markdown",
   "id": "a0832413",
   "metadata": {},
   "source": [
    "For this step to get the query species orthomap, one uses the `of2orthomap.get_orthomap()` function, like:"
   ]
  },
  {
   "cell_type": "code",
   "execution_count": 5,
   "id": "b1fb7c22",
   "metadata": {},
   "outputs": [
    {
     "name": "stdout",
     "output_type": "stream",
     "text": [
      "Danio_rerio.GRCz11.cds.longest\n",
      "Danio rerio\n",
      "7955\n",
      "                                               species    taxID  \\\n",
      "0    Acanthochromis_polyacanthus.ASM210954v1.cds.lo...    80966   \n",
      "1    Accipiter_nisus.Accipiter_nisus_ver1.0.cds.lon...   211598   \n",
      "2       Ailuropoda_melanoleuca.ASM200744v2.cds.longest     9646   \n",
      "3             Amazona_collaria.ASM394721v1.cds.longest   241587   \n",
      "4         Amphilophus_citrinellus.Midas_v5.cds.longest    61819   \n",
      "..                                                 ...      ...   \n",
      "307  Xiphophorus_couchianus.Xiphophorus_couchianus-...    32473   \n",
      "308  Xiphophorus_maculatus.X_maculatus-5.0-male.cds...     8083   \n",
      "309    Zalophus_californianus.mZalCal1.pri.cds.longest     9704   \n",
      "310  Zonotrichia_albicollis.Zonotrichia_albicollis-...    44394   \n",
      "311  Zosterops_lateralis_melanops.ASM128173v1.cds.l...  1220523   \n",
      "\n",
      "                                               lineage  youngest_common  \\\n",
      "0    [1, 131567, 2759, 33154, 33208, 6072, 33213, 3...           186625   \n",
      "1    [1, 131567, 2759, 33154, 33208, 6072, 33213, 3...           117571   \n",
      "2    [1, 131567, 2759, 33154, 33208, 6072, 33213, 3...           117571   \n",
      "3    [1, 131567, 2759, 33154, 33208, 6072, 33213, 3...           117571   \n",
      "4    [1, 131567, 2759, 33154, 33208, 6072, 33213, 3...           186625   \n",
      "..                                                 ...              ...   \n",
      "307  [1, 131567, 2759, 33154, 33208, 6072, 33213, 3...           186625   \n",
      "308  [1, 131567, 2759, 33154, 33208, 6072, 33213, 3...           186625   \n",
      "309  [1, 131567, 2759, 33154, 33208, 6072, 33213, 3...           117571   \n",
      "310  [1, 131567, 2759, 33154, 33208, 6072, 33213, 3...           117571   \n",
      "311  [1, 131567, 2759, 33154, 33208, 6072, 33213, 3...           117571   \n",
      "\n",
      "     youngest_name  \n",
      "0    Clupeocephala  \n",
      "1     Euteleostomi  \n",
      "2     Euteleostomi  \n",
      "3     Euteleostomi  \n",
      "4    Clupeocephala  \n",
      "..             ...  \n",
      "307  Clupeocephala  \n",
      "308  Clupeocephala  \n",
      "309   Euteleostomi  \n",
      "310   Euteleostomi  \n",
      "311   Euteleostomi  \n",
      "\n",
      "[312 rows x 5 columns]\n"
     ]
    },
    {
     "data": {
      "text/html": [
       "<div>\n",
       "<style scoped>\n",
       "    .dataframe tbody tr th:only-of-type {\n",
       "        vertical-align: middle;\n",
       "    }\n",
       "\n",
       "    .dataframe tbody tr th {\n",
       "        vertical-align: top;\n",
       "    }\n",
       "\n",
       "    .dataframe thead th {\n",
       "        text-align: right;\n",
       "    }\n",
       "</style>\n",
       "<table border=\"1\" class=\"dataframe\">\n",
       "  <thead>\n",
       "    <tr style=\"text-align: right;\">\n",
       "      <th></th>\n",
       "      <th>seqID</th>\n",
       "      <th>Orthogroup</th>\n",
       "      <th>PSnum</th>\n",
       "      <th>PStaxID</th>\n",
       "      <th>PSname</th>\n",
       "      <th>PScontinuity</th>\n",
       "    </tr>\n",
       "  </thead>\n",
       "  <tbody>\n",
       "    <tr>\n",
       "      <th>0</th>\n",
       "      <td>ENSDART00000127643.3</td>\n",
       "      <td>OG0000000</td>\n",
       "      <td>6</td>\n",
       "      <td>33213</td>\n",
       "      <td>Bilateria</td>\n",
       "      <td>0.846154</td>\n",
       "    </tr>\n",
       "    <tr>\n",
       "      <th>1</th>\n",
       "      <td>ENSDART00000171750.2</td>\n",
       "      <td>OG0000000</td>\n",
       "      <td>6</td>\n",
       "      <td>33213</td>\n",
       "      <td>Bilateria</td>\n",
       "      <td>0.846154</td>\n",
       "    </tr>\n",
       "    <tr>\n",
       "      <th>2</th>\n",
       "      <td>ENSDART00000190648.1</td>\n",
       "      <td>OG0000000</td>\n",
       "      <td>6</td>\n",
       "      <td>33213</td>\n",
       "      <td>Bilateria</td>\n",
       "      <td>0.846154</td>\n",
       "    </tr>\n",
       "    <tr>\n",
       "      <th>3</th>\n",
       "      <td>ENSDART00000130167.3</td>\n",
       "      <td>OG0000001</td>\n",
       "      <td>10</td>\n",
       "      <td>7742</td>\n",
       "      <td>Vertebrata</td>\n",
       "      <td>0.909091</td>\n",
       "    </tr>\n",
       "    <tr>\n",
       "      <th>4</th>\n",
       "      <td>ENSDART00000150909.2</td>\n",
       "      <td>OG0000001</td>\n",
       "      <td>10</td>\n",
       "      <td>7742</td>\n",
       "      <td>Vertebrata</td>\n",
       "      <td>0.909091</td>\n",
       "    </tr>\n",
       "    <tr>\n",
       "      <th>...</th>\n",
       "      <td>...</td>\n",
       "      <td>...</td>\n",
       "      <td>...</td>\n",
       "      <td>...</td>\n",
       "      <td>...</td>\n",
       "      <td>...</td>\n",
       "    </tr>\n",
       "    <tr>\n",
       "      <th>25167</th>\n",
       "      <td>ENSDART00000180796.1</td>\n",
       "      <td>OG0029510</td>\n",
       "      <td>19</td>\n",
       "      <td>186625</td>\n",
       "      <td>Clupeocephala</td>\n",
       "      <td>0.400000</td>\n",
       "    </tr>\n",
       "    <tr>\n",
       "      <th>25168</th>\n",
       "      <td>ENSDART00000145618.2</td>\n",
       "      <td>OG0029511</td>\n",
       "      <td>19</td>\n",
       "      <td>186625</td>\n",
       "      <td>Clupeocephala</td>\n",
       "      <td>0.400000</td>\n",
       "    </tr>\n",
       "    <tr>\n",
       "      <th>25169</th>\n",
       "      <td>ENSDART00000143229.2</td>\n",
       "      <td>OG0029512</td>\n",
       "      <td>29</td>\n",
       "      <td>7955</td>\n",
       "      <td>Danio rerio</td>\n",
       "      <td>1.000000</td>\n",
       "    </tr>\n",
       "    <tr>\n",
       "      <th>25170</th>\n",
       "      <td>ENSDART00000143837.3</td>\n",
       "      <td>OG0029512</td>\n",
       "      <td>29</td>\n",
       "      <td>7955</td>\n",
       "      <td>Danio rerio</td>\n",
       "      <td>1.000000</td>\n",
       "    </tr>\n",
       "    <tr>\n",
       "      <th>25171</th>\n",
       "      <td>ENSDART00000180573.1</td>\n",
       "      <td>OG0029513</td>\n",
       "      <td>13</td>\n",
       "      <td>117571</td>\n",
       "      <td>Euteleostomi</td>\n",
       "      <td>0.222222</td>\n",
       "    </tr>\n",
       "  </tbody>\n",
       "</table>\n",
       "<p>25172 rows × 6 columns</p>\n",
       "</div>"
      ],
      "text/plain": [
       "                      seqID Orthogroup  PSnum PStaxID         PSname  \\\n",
       "0      ENSDART00000127643.3  OG0000000      6   33213      Bilateria   \n",
       "1      ENSDART00000171750.2  OG0000000      6   33213      Bilateria   \n",
       "2      ENSDART00000190648.1  OG0000000      6   33213      Bilateria   \n",
       "3      ENSDART00000130167.3  OG0000001     10    7742     Vertebrata   \n",
       "4      ENSDART00000150909.2  OG0000001     10    7742     Vertebrata   \n",
       "...                     ...        ...    ...     ...            ...   \n",
       "25167  ENSDART00000180796.1  OG0029510     19  186625  Clupeocephala   \n",
       "25168  ENSDART00000145618.2  OG0029511     19  186625  Clupeocephala   \n",
       "25169  ENSDART00000143229.2  OG0029512     29    7955    Danio rerio   \n",
       "25170  ENSDART00000143837.3  OG0029512     29    7955    Danio rerio   \n",
       "25171  ENSDART00000180573.1  OG0029513     13  117571   Euteleostomi   \n",
       "\n",
       "       PScontinuity  \n",
       "0          0.846154  \n",
       "1          0.846154  \n",
       "2          0.846154  \n",
       "3          0.909091  \n",
       "4          0.909091  \n",
       "...             ...  \n",
       "25167      0.400000  \n",
       "25168      0.400000  \n",
       "25169      1.000000  \n",
       "25170      1.000000  \n",
       "25171      0.222222  \n",
       "\n",
       "[25172 rows x 6 columns]"
      ]
     },
     "execution_count": 5,
     "metadata": {},
     "output_type": "execute_result"
    }
   ],
   "source": [
    "# get query species orthomap\n",
    "\n",
    "# download orthofinder results here: https://doi.org/10.5281/zenodo.7242264\n",
    "# or download with datasets.ensembl105('data')\n",
    "query_orthomap, orthofinder_species_list, of_species_abundance = of2orthomap.get_orthomap(\n",
    "    seqname='Danio_rerio.GRCz11.cds.longest',\n",
    "    qt='7955',\n",
    "    sl='data/ensembl_105_orthofinder_species_list.tsv',\n",
    "    oc='data/ensembl_105_orthofinder_Orthogroups.GeneCount.tsv.zip',\n",
    "    og='data/ensembl_105_orthofinder_Orthogroups.tsv.zip',\n",
    "    continuity=True)\n",
    "query_orthomap"
   ]
  },
  {
   "cell_type": "markdown",
   "id": "9d51b243",
   "metadata": {},
   "source": [
    "The created orthomap can be stored as a <tab> separated file like:"
   ]
  },
  {
   "cell_type": "raw",
   "id": "92c3da3d",
   "metadata": {},
   "source": [
    "query_orthomap.to_csv('./orthomap.tsv', sep='\\t', index=False)"
   ]
  },
  {
   "cell_type": "markdown",
   "id": "243a6f42",
   "metadata": {},
   "source": [
    "To re-use the saved orthomap, so that one does not need to repeat step1 and step2, one could load it with `orthomap2tei.read_orthomap()` function."
   ]
  },
  {
   "cell_type": "markdown",
   "id": "894edcaf",
   "metadata": {},
   "source": [
    "## Ensembl release-110\n",
    "\n",
    "For this documentation part all mandatory [OrthoFinder](https://orthomap.readthedocs.io/en/latest/tutorials/https://github.com/davidemms/OrthoFinder) ([Emms and Kelly, 2019](https://doi.org/10.1186/s13059-019-1832-y)) results have been pre-calculated. \n",
    "\n",
    "[OrthoFinder](https://orthomap.readthedocs.io/en/latest/tutorials/https://github.com/davidemms/OrthoFinder) was run with the option `-S last` using translated, longest-isoform coding sequences (CDS) from [Ensembl release-110](https://ftp.ensembl.org/pub/release-110/) including species taxonomic IDs.\n",
    "\n",
    "The results are available here: \n",
    "\n",
    "https://doi.org/10.5281/zenodo.7242264\n",
    "\n",
    "or can be accessed with the `dataset` submodule of `orthomap`\n",
    "\n",
    "`datasets.ensembl110_last(datapath='data')` (download folder set to `'data'`).\n",
    "\n",
    "__Note:__ If you want to use your own [OrthoFinder](https://orthomap.readthedocs.io/en/latest/tutorials/https://github.com/davidemms/OrthoFinder) results, please have a look at the documentation of [Step 0 - run OrthoFinder](https://orthomap.readthedocs.io/en/latest/tutorials/orthofinder.html)."
   ]
  },
  {
   "cell_type": "code",
   "execution_count": 6,
   "id": "fca86034",
   "metadata": {},
   "outputs": [
    {
     "name": "stdout",
     "output_type": "stream",
     "text": [
      "100% [..............................................................................] 11317 / 11317"
     ]
    },
    {
     "data": {
      "text/plain": [
       "['data/ensembl_110_orthofinder_last_Orthogroups.GeneCount.tsv.zip',\n",
       " 'data/ensembl_110_orthofinder_last_Orthogroups.tsv.zip',\n",
       " 'data/ensembl_110_orthofinder_last_species_list.tsv']"
      ]
     },
     "execution_count": 6,
     "metadata": {},
     "output_type": "execute_result"
    }
   ],
   "source": [
    "datasets.ensembl110_last(datapath='data')"
   ]
  },
  {
   "cell_type": "code",
   "execution_count": 7,
   "id": "30644178",
   "metadata": {},
   "outputs": [
    {
     "name": "stdout",
     "output_type": "stream",
     "text": [
      "7955.danio_rerio.pep\n",
      "Danio rerio\n",
      "7955\n",
      "                                    species  taxID  \\\n",
      "0                 10020.dipodomys_ordii.pep  10020   \n",
      "1    10029.cricetulus_griseus_chok1gshd.pep  10029   \n",
      "2       10029.cricetulus_griseus_crigri.pep  10029   \n",
      "3         10029.cricetulus_griseus_picr.pep  10029   \n",
      "4            10036.mesocricetus_auratus.pep  10036   \n",
      "..                                      ...    ...   \n",
      "313          9986.oryctolagus_cuniculus.pep   9986   \n",
      "314        99883.tetraodon_nigroviridis.pep  99883   \n",
      "315        9994.marmota_marmota_marmota.pep   9994   \n",
      "316            9999.urocitellus_parryii.pep   9999   \n",
      "317    Xtropicalisv9.0.Named.primaryTrs.pep   8364   \n",
      "\n",
      "                                               lineage  youngest_common  \\\n",
      "0    [1, 131567, 2759, 33154, 33208, 6072, 33213, 3...           117571   \n",
      "1    [1, 131567, 2759, 33154, 33208, 6072, 33213, 3...           117571   \n",
      "2    [1, 131567, 2759, 33154, 33208, 6072, 33213, 3...           117571   \n",
      "3    [1, 131567, 2759, 33154, 33208, 6072, 33213, 3...           117571   \n",
      "4    [1, 131567, 2759, 33154, 33208, 6072, 33213, 3...           117571   \n",
      "..                                                 ...              ...   \n",
      "313  [1, 131567, 2759, 33154, 33208, 6072, 33213, 3...           117571   \n",
      "314  [1, 131567, 2759, 33154, 33208, 6072, 33213, 3...           186625   \n",
      "315  [1, 131567, 2759, 33154, 33208, 6072, 33213, 3...           117571   \n",
      "316  [1, 131567, 2759, 33154, 33208, 6072, 33213, 3...           117571   \n",
      "317  [1, 131567, 2759, 33154, 33208, 6072, 33213, 3...           117571   \n",
      "\n",
      "     youngest_name  \n",
      "0     Euteleostomi  \n",
      "1     Euteleostomi  \n",
      "2     Euteleostomi  \n",
      "3     Euteleostomi  \n",
      "4     Euteleostomi  \n",
      "..             ...  \n",
      "313   Euteleostomi  \n",
      "314  Clupeocephala  \n",
      "315   Euteleostomi  \n",
      "316   Euteleostomi  \n",
      "317   Euteleostomi  \n",
      "\n",
      "[318 rows x 5 columns]\n"
     ]
    },
    {
     "data": {
      "text/html": [
       "<div>\n",
       "<style scoped>\n",
       "    .dataframe tbody tr th:only-of-type {\n",
       "        vertical-align: middle;\n",
       "    }\n",
       "\n",
       "    .dataframe tbody tr th {\n",
       "        vertical-align: top;\n",
       "    }\n",
       "\n",
       "    .dataframe thead th {\n",
       "        text-align: right;\n",
       "    }\n",
       "</style>\n",
       "<table border=\"1\" class=\"dataframe\">\n",
       "  <thead>\n",
       "    <tr style=\"text-align: right;\">\n",
       "      <th></th>\n",
       "      <th>seqID</th>\n",
       "      <th>Orthogroup</th>\n",
       "      <th>PSnum</th>\n",
       "      <th>PStaxID</th>\n",
       "      <th>PSname</th>\n",
       "      <th>PScontinuity</th>\n",
       "    </tr>\n",
       "  </thead>\n",
       "  <tbody>\n",
       "    <tr>\n",
       "      <th>0</th>\n",
       "      <td>ENSDART00000013359.10</td>\n",
       "      <td>OG0000000</td>\n",
       "      <td>6</td>\n",
       "      <td>33213</td>\n",
       "      <td>Bilateria</td>\n",
       "      <td>0.846154</td>\n",
       "    </tr>\n",
       "    <tr>\n",
       "      <th>1</th>\n",
       "      <td>ENSDART00000136092.3</td>\n",
       "      <td>OG0000001</td>\n",
       "      <td>6</td>\n",
       "      <td>33213</td>\n",
       "      <td>Bilateria</td>\n",
       "      <td>1.000000</td>\n",
       "    </tr>\n",
       "    <tr>\n",
       "      <th>2</th>\n",
       "      <td>ENSDART00000148349.3</td>\n",
       "      <td>OG0000001</td>\n",
       "      <td>6</td>\n",
       "      <td>33213</td>\n",
       "      <td>Bilateria</td>\n",
       "      <td>1.000000</td>\n",
       "    </tr>\n",
       "    <tr>\n",
       "      <th>3</th>\n",
       "      <td>ENSDART00000160249.2</td>\n",
       "      <td>OG0000001</td>\n",
       "      <td>6</td>\n",
       "      <td>33213</td>\n",
       "      <td>Bilateria</td>\n",
       "      <td>1.000000</td>\n",
       "    </tr>\n",
       "    <tr>\n",
       "      <th>4</th>\n",
       "      <td>ENSDART00000174091.2</td>\n",
       "      <td>OG0000001</td>\n",
       "      <td>6</td>\n",
       "      <td>33213</td>\n",
       "      <td>Bilateria</td>\n",
       "      <td>1.000000</td>\n",
       "    </tr>\n",
       "    <tr>\n",
       "      <th>...</th>\n",
       "      <td>...</td>\n",
       "      <td>...</td>\n",
       "      <td>...</td>\n",
       "      <td>...</td>\n",
       "      <td>...</td>\n",
       "      <td>...</td>\n",
       "    </tr>\n",
       "    <tr>\n",
       "      <th>24952</th>\n",
       "      <td>ENSDART00000125904.3</td>\n",
       "      <td>OG0035492</td>\n",
       "      <td>19</td>\n",
       "      <td>186625</td>\n",
       "      <td>Clupeocephala</td>\n",
       "      <td>0.400000</td>\n",
       "    </tr>\n",
       "    <tr>\n",
       "      <th>24953</th>\n",
       "      <td>ENSDART00000191935.1</td>\n",
       "      <td>OG0035493</td>\n",
       "      <td>25</td>\n",
       "      <td>30727</td>\n",
       "      <td>Cyprinoidei</td>\n",
       "      <td>1.000000</td>\n",
       "    </tr>\n",
       "    <tr>\n",
       "      <th>24954</th>\n",
       "      <td>ENSDART00000143229.2</td>\n",
       "      <td>OG0035494</td>\n",
       "      <td>29</td>\n",
       "      <td>7955</td>\n",
       "      <td>Danio rerio</td>\n",
       "      <td>1.000000</td>\n",
       "    </tr>\n",
       "    <tr>\n",
       "      <th>24955</th>\n",
       "      <td>ENSDART00000143837.3</td>\n",
       "      <td>OG0035494</td>\n",
       "      <td>29</td>\n",
       "      <td>7955</td>\n",
       "      <td>Danio rerio</td>\n",
       "      <td>1.000000</td>\n",
       "    </tr>\n",
       "    <tr>\n",
       "      <th>24956</th>\n",
       "      <td>ENSDART00000143384.2</td>\n",
       "      <td>OG0035495</td>\n",
       "      <td>22</td>\n",
       "      <td>186626</td>\n",
       "      <td>Otophysi</td>\n",
       "      <td>0.666667</td>\n",
       "    </tr>\n",
       "  </tbody>\n",
       "</table>\n",
       "<p>24957 rows × 6 columns</p>\n",
       "</div>"
      ],
      "text/plain": [
       "                       seqID Orthogroup  PSnum PStaxID         PSname  \\\n",
       "0      ENSDART00000013359.10  OG0000000      6   33213      Bilateria   \n",
       "1       ENSDART00000136092.3  OG0000001      6   33213      Bilateria   \n",
       "2       ENSDART00000148349.3  OG0000001      6   33213      Bilateria   \n",
       "3       ENSDART00000160249.2  OG0000001      6   33213      Bilateria   \n",
       "4       ENSDART00000174091.2  OG0000001      6   33213      Bilateria   \n",
       "...                      ...        ...    ...     ...            ...   \n",
       "24952   ENSDART00000125904.3  OG0035492     19  186625  Clupeocephala   \n",
       "24953   ENSDART00000191935.1  OG0035493     25   30727    Cyprinoidei   \n",
       "24954   ENSDART00000143229.2  OG0035494     29    7955    Danio rerio   \n",
       "24955   ENSDART00000143837.3  OG0035494     29    7955    Danio rerio   \n",
       "24956   ENSDART00000143384.2  OG0035495     22  186626       Otophysi   \n",
       "\n",
       "       PScontinuity  \n",
       "0          0.846154  \n",
       "1          1.000000  \n",
       "2          1.000000  \n",
       "3          1.000000  \n",
       "4          1.000000  \n",
       "...             ...  \n",
       "24952      0.400000  \n",
       "24953      1.000000  \n",
       "24954      1.000000  \n",
       "24955      1.000000  \n",
       "24956      0.666667  \n",
       "\n",
       "[24957 rows x 6 columns]"
      ]
     },
     "execution_count": 7,
     "metadata": {},
     "output_type": "execute_result"
    }
   ],
   "source": [
    "# get query species orthomap\n",
    "\n",
    "# download orthofinder results here: https://doi.org/10.5281/zenodo.7242264\n",
    "# or download with datasets.ensembl105('data')\n",
    "query_orthomap, orthofinder_species_list, of_species_abundance = of2orthomap.get_orthomap(\n",
    "    seqname='7955.danio_rerio.pep',\n",
    "    qt='7955',\n",
    "    sl='data/ensembl_110_orthofinder_last_species_list.tsv',\n",
    "    oc='data/ensembl_110_orthofinder_last_Orthogroups.GeneCount.tsv.zip',\n",
    "    og='data/ensembl_110_orthofinder_last_Orthogroups.tsv.zip',\n",
    "    continuity=True)\n",
    "query_orthomap"
   ]
  },
  {
   "cell_type": "markdown",
   "id": "beafa16e",
   "metadata": {},
   "source": [
    "The created orthomap can be stored as a <tab> separated file like:"
   ]
  },
  {
   "cell_type": "raw",
   "id": "8482f2c3",
   "metadata": {},
   "source": [
    "query_orthomap.to_csv('./orthomap.tsv', sep='\\t', index=False)"
   ]
  },
  {
   "cell_type": "markdown",
   "id": "5ae0b7fa",
   "metadata": {},
   "source": [
    "To re-use the saved orthomap, so that one does not need to repeat step1 and step2, one could load it with `orthomap2tei.read_orthomap()` function."
   ]
  },
  {
   "cell_type": "markdown",
   "id": "2f8dd158",
   "metadata": {},
   "source": [
    "### Gene age assignments per query species lineage node\n",
    "\n",
    "Given an orthomap, one can get an overview of the gene age assignments per query species lineage node.\n",
    "\n",
    "The `orthomap` submodule `of2orhomap` and the `of2orthomap.get_counts_per_ps()` function will show the distribution of the gene age classes and can be further visualized as follows:"
   ]
  },
  {
   "cell_type": "code",
   "execution_count": 8,
   "id": "672ae534",
   "metadata": {},
   "outputs": [
    {
     "data": {
      "text/html": [
       "<div>\n",
       "<style scoped>\n",
       "    .dataframe tbody tr th:only-of-type {\n",
       "        vertical-align: middle;\n",
       "    }\n",
       "\n",
       "    .dataframe tbody tr th {\n",
       "        vertical-align: top;\n",
       "    }\n",
       "\n",
       "    .dataframe thead th {\n",
       "        text-align: right;\n",
       "    }\n",
       "</style>\n",
       "<table border=\"1\" class=\"dataframe\">\n",
       "  <thead>\n",
       "    <tr style=\"text-align: right;\">\n",
       "      <th></th>\n",
       "      <th>PSnum</th>\n",
       "      <th>counts</th>\n",
       "      <th>PStaxID</th>\n",
       "      <th>PSname</th>\n",
       "    </tr>\n",
       "    <tr>\n",
       "      <th>PSnum</th>\n",
       "      <th></th>\n",
       "      <th></th>\n",
       "      <th></th>\n",
       "      <th></th>\n",
       "    </tr>\n",
       "  </thead>\n",
       "  <tbody>\n",
       "    <tr>\n",
       "      <th>3</th>\n",
       "      <td>3</td>\n",
       "      <td>4376</td>\n",
       "      <td>33154</td>\n",
       "      <td>Opisthokonta</td>\n",
       "    </tr>\n",
       "    <tr>\n",
       "      <th>6</th>\n",
       "      <td>6</td>\n",
       "      <td>10530</td>\n",
       "      <td>33213</td>\n",
       "      <td>Bilateria</td>\n",
       "    </tr>\n",
       "    <tr>\n",
       "      <th>8</th>\n",
       "      <td>8</td>\n",
       "      <td>2390</td>\n",
       "      <td>7711</td>\n",
       "      <td>Chordata</td>\n",
       "    </tr>\n",
       "    <tr>\n",
       "      <th>10</th>\n",
       "      <td>10</td>\n",
       "      <td>2838</td>\n",
       "      <td>7742</td>\n",
       "      <td>Vertebrata</td>\n",
       "    </tr>\n",
       "    <tr>\n",
       "      <th>11</th>\n",
       "      <td>11</td>\n",
       "      <td>1515</td>\n",
       "      <td>7776</td>\n",
       "      <td>Gnathostomata</td>\n",
       "    </tr>\n",
       "    <tr>\n",
       "      <th>13</th>\n",
       "      <td>13</td>\n",
       "      <td>760</td>\n",
       "      <td>117571</td>\n",
       "      <td>Euteleostomi</td>\n",
       "    </tr>\n",
       "    <tr>\n",
       "      <th>14</th>\n",
       "      <td>14</td>\n",
       "      <td>235</td>\n",
       "      <td>7898</td>\n",
       "      <td>Actinopterygii</td>\n",
       "    </tr>\n",
       "    <tr>\n",
       "      <th>16</th>\n",
       "      <td>16</td>\n",
       "      <td>275</td>\n",
       "      <td>41665</td>\n",
       "      <td>Neopterygii</td>\n",
       "    </tr>\n",
       "    <tr>\n",
       "      <th>18</th>\n",
       "      <td>18</td>\n",
       "      <td>231</td>\n",
       "      <td>1489341</td>\n",
       "      <td>Osteoglossocephalai</td>\n",
       "    </tr>\n",
       "    <tr>\n",
       "      <th>19</th>\n",
       "      <td>19</td>\n",
       "      <td>506</td>\n",
       "      <td>186625</td>\n",
       "      <td>Clupeocephala</td>\n",
       "    </tr>\n",
       "    <tr>\n",
       "      <th>20</th>\n",
       "      <td>20</td>\n",
       "      <td>33</td>\n",
       "      <td>186634</td>\n",
       "      <td>Otomorpha</td>\n",
       "    </tr>\n",
       "    <tr>\n",
       "      <th>22</th>\n",
       "      <td>22</td>\n",
       "      <td>120</td>\n",
       "      <td>186626</td>\n",
       "      <td>Otophysi</td>\n",
       "    </tr>\n",
       "    <tr>\n",
       "      <th>25</th>\n",
       "      <td>25</td>\n",
       "      <td>317</td>\n",
       "      <td>30727</td>\n",
       "      <td>Cyprinoidei</td>\n",
       "    </tr>\n",
       "    <tr>\n",
       "      <th>29</th>\n",
       "      <td>29</td>\n",
       "      <td>831</td>\n",
       "      <td>7955</td>\n",
       "      <td>Danio rerio</td>\n",
       "    </tr>\n",
       "  </tbody>\n",
       "</table>\n",
       "</div>"
      ],
      "text/plain": [
       "       PSnum  counts  PStaxID               PSname\n",
       "PSnum                                             \n",
       "3          3    4376    33154         Opisthokonta\n",
       "6          6   10530    33213            Bilateria\n",
       "8          8    2390     7711             Chordata\n",
       "10        10    2838     7742           Vertebrata\n",
       "11        11    1515     7776        Gnathostomata\n",
       "13        13     760   117571         Euteleostomi\n",
       "14        14     235     7898       Actinopterygii\n",
       "16        16     275    41665          Neopterygii\n",
       "18        18     231  1489341  Osteoglossocephalai\n",
       "19        19     506   186625        Clupeocephala\n",
       "20        20      33   186634            Otomorpha\n",
       "22        22     120   186626             Otophysi\n",
       "25        25     317    30727          Cyprinoidei\n",
       "29        29     831     7955          Danio rerio"
      ]
     },
     "execution_count": 8,
     "metadata": {},
     "output_type": "execute_result"
    }
   ],
   "source": [
    "# show count per taxonomic group (PStaxID)\n",
    "of2orthomap.get_counts_per_ps(query_orthomap)"
   ]
  },
  {
   "cell_type": "markdown",
   "id": "309e6f3e",
   "metadata": {},
   "source": [
    "### Visualize number of species along query lineage and counts per gene age class"
   ]
  },
  {
   "cell_type": "code",
   "execution_count": 9,
   "id": "9f2feeef",
   "metadata": {},
   "outputs": [
    {
     "data": {
      "text/plain": [
       "<AxesSubplot: >"
      ]
     },
     "execution_count": 9,
     "metadata": {},
     "output_type": "execute_result"
    },
    {
     "data": {
      "image/png": "[encoded data removed]",
      "text/plain": [
       "<Figure size 600x450 with 1 Axes>"
      ]
     },
     "metadata": {},
     "output_type": "display_data"
    }
   ],
   "source": [
    "# show number of species along query lineage\n",
    "of_species_abundance\n",
    "\n",
    "# bar plot number of species along query lineage\n",
    "of_species_abundance.plot.bar(y='counts', use_index=True)"
   ]
  },
  {
   "cell_type": "code",
   "execution_count": 10,
   "id": "12c0d65f",
   "metadata": {},
   "outputs": [
    {
     "data": {
      "image/png": "[encoded data removed]",
      "text/plain": [
       "<Figure size 600x450 with 1 Axes>"
      ]
     },
     "metadata": {},
     "output_type": "display_data"
    }
   ],
   "source": [
    "# show count per taxonomic group (PStaxID)\n",
    "of2orthomap.get_counts_per_ps(query_orthomap)\n",
    "\n",
    "# bar plot count per taxonomic group (PSname)\n",
    "ax = of2orthomap.get_counts_per_ps(query_orthomap).plot.bar(y='counts', x='PSname')\n",
    "ax.set_title('D. rerio - Number of genes per gene age class')\n",
    "plt.show()"
   ]
  },
  {
   "cell_type": "markdown",
   "id": "e5c267d2",
   "metadata": {},
   "source": [
    "## Use pre-calculated gene age classification\n",
    "\n",
    "The query species in this part is: __*Caenorhabditis elegans*__ (nematode).\n",
    "\n",
    "Any pre-calculated gene age classification can be imported as a table using the function `orthomap2tei.read_orthomap(orthomapfile=filename)`.\n",
    "\n",
    "The pre-calculated gene age classification file should be <tab> delimited with two columns `GeneID<tab>Phylostratum`, like e.g.:\n",
    "    \n",
    "```\n",
    "GeneID<tab>Phylostratum\n",
    "WBGene00000001<tab>1\n",
    "WBGene00000002<tab>1\n",
    "WBGene00000003<tab>1\n",
    "WBGene00000004<tab>1\n",
    "WBGene00000005<tab>2\n",
    "```"
   ]
  },
  {
   "cell_type": "markdown",
   "id": "b0714b80",
   "metadata": {},
   "source": [
    "The orthomap for this part was pre-calculated ([Sun et al., 2021](https://doi.org/10.1101/gr.275303.121)) and is available here:\n",
    "\n",
    "[https://doi.org/10.5281/zenodo.7242263](https://doi.org/10.5281/zenodo.7242263)\n",
    "\n",
    "or can be accessed with the `dataset` submodule of `orthomap`\n",
    "\n",
    "`datasets.sun21_orthomap(datapath='data')` (download folder set to `'data'`).\n",
    "\n",
    "__Note:__ If you want to use your own [OrthoFinder](https://orthomap.readthedocs.io/en/latest/tutorials/https://github.com/davidemms/OrthoFinder) results, please have a look at the documentation of [Step 0 - run OrthoFinder](https://orthomap.readthedocs.io/en/latest/tutorials/orthofinder.html).\n",
    "\n",
    "A detailed description of how to extract an orthomap from [OrthoFinder](https://orthomap.readthedocs.io/en/latest/tutorials/https://github.com/davidemms/OrthoFinder) results is described in the first part."
   ]
  },
  {
   "cell_type": "code",
   "execution_count": 11,
   "id": "3a598901",
   "metadata": {},
   "outputs": [
    {
     "name": "stdout",
     "output_type": "stream",
     "text": [
      "100% [............................................................................] 344640 / 344640"
     ]
    },
    {
     "data": {
      "text/plain": [
       "'data/Sun2021_Orthomap.tsv'"
      ]
     },
     "execution_count": 11,
     "metadata": {},
     "output_type": "execute_result"
    }
   ],
   "source": [
    "datasets.sun21_orthomap(datapath='data')"
   ]
  },
  {
   "cell_type": "code",
   "execution_count": 12,
   "id": "20791b7e",
   "metadata": {},
   "outputs": [
    {
     "name": "stdout",
     "output_type": "stream",
     "text": [
      "query name: Caenorhabditis elegans\n",
      "query taxID: 6239\n",
      "query kingdom: Eukaryota\n",
      "query lineage names: \n",
      "['root(1)', 'cellular organisms(131567)', 'Eukaryota(2759)', 'Opisthokonta(33154)', 'Metazoa(33208)', 'Eumetazoa(6072)', 'Bilateria(33213)', 'Protostomia(33317)', 'Ecdysozoa(1206794)', 'Nematoda(6231)', 'Chromadorea(119089)', 'Rhabditida(6236)', 'Rhabditina(2301116)', 'Rhabditomorpha(2301119)', 'Rhabditoidea(55879)', 'Rhabditidae(6243)', 'Peloderinae(55885)', 'Caenorhabditis(6237)', 'Caenorhabditis elegans(6239)']\n",
      "query lineage: \n",
      "[1, 131567, 2759, 33154, 33208, 6072, 33213, 33317, 1206794, 6231, 119089, 6236, 2301116, 2301119, 55879, 6243, 55885, 6237, 6239]\n"
     ]
    }
   ],
   "source": [
    "# get query species taxonomic lineage information\n",
    "query_lineage = qlin.get_qlin(q='Caenorhabditis elegans')"
   ]
  },
  {
   "cell_type": "code",
   "execution_count": 13,
   "id": "3091aa76",
   "metadata": {},
   "outputs": [
    {
     "data": {
      "text/html": [
       "<div>\n",
       "<style scoped>\n",
       "    .dataframe tbody tr th:only-of-type {\n",
       "        vertical-align: middle;\n",
       "    }\n",
       "\n",
       "    .dataframe tbody tr th {\n",
       "        vertical-align: top;\n",
       "    }\n",
       "\n",
       "    .dataframe thead th {\n",
       "        text-align: right;\n",
       "    }\n",
       "</style>\n",
       "<table border=\"1\" class=\"dataframe\">\n",
       "  <thead>\n",
       "    <tr style=\"text-align: right;\">\n",
       "      <th></th>\n",
       "      <th>GeneID</th>\n",
       "      <th>Phylostratum</th>\n",
       "    </tr>\n",
       "  </thead>\n",
       "  <tbody>\n",
       "    <tr>\n",
       "      <th>0</th>\n",
       "      <td>WBGene00000001</td>\n",
       "      <td>1</td>\n",
       "    </tr>\n",
       "    <tr>\n",
       "      <th>1</th>\n",
       "      <td>WBGene00000002</td>\n",
       "      <td>1</td>\n",
       "    </tr>\n",
       "    <tr>\n",
       "      <th>2</th>\n",
       "      <td>WBGene00000003</td>\n",
       "      <td>1</td>\n",
       "    </tr>\n",
       "    <tr>\n",
       "      <th>3</th>\n",
       "      <td>WBGene00000004</td>\n",
       "      <td>1</td>\n",
       "    </tr>\n",
       "    <tr>\n",
       "      <th>4</th>\n",
       "      <td>WBGene00000005</td>\n",
       "      <td>2</td>\n",
       "    </tr>\n",
       "    <tr>\n",
       "      <th>...</th>\n",
       "      <td>...</td>\n",
       "      <td>...</td>\n",
       "    </tr>\n",
       "    <tr>\n",
       "      <th>20035</th>\n",
       "      <td>WBGene00305132</td>\n",
       "      <td>9</td>\n",
       "    </tr>\n",
       "    <tr>\n",
       "      <th>20036</th>\n",
       "      <td>WBGene00305157</td>\n",
       "      <td>1</td>\n",
       "    </tr>\n",
       "    <tr>\n",
       "      <th>20037</th>\n",
       "      <td>WBGene00305158</td>\n",
       "      <td>13</td>\n",
       "    </tr>\n",
       "    <tr>\n",
       "      <th>20038</th>\n",
       "      <td>WBGene00305159</td>\n",
       "      <td>11</td>\n",
       "    </tr>\n",
       "    <tr>\n",
       "      <th>20039</th>\n",
       "      <td>WBGene00305173</td>\n",
       "      <td>0</td>\n",
       "    </tr>\n",
       "  </tbody>\n",
       "</table>\n",
       "<p>20040 rows × 2 columns</p>\n",
       "</div>"
      ],
      "text/plain": [
       "               GeneID  Phylostratum\n",
       "0      WBGene00000001             1\n",
       "1      WBGene00000002             1\n",
       "2      WBGene00000003             1\n",
       "3      WBGene00000004             1\n",
       "4      WBGene00000005             2\n",
       "...               ...           ...\n",
       "20035  WBGene00305132             9\n",
       "20036  WBGene00305157             1\n",
       "20037  WBGene00305158            13\n",
       "20038  WBGene00305159            11\n",
       "20039  WBGene00305173             0\n",
       "\n",
       "[20040 rows x 2 columns]"
      ]
     },
     "execution_count": 13,
     "metadata": {},
     "output_type": "execute_result"
    }
   ],
   "source": [
    "# get query species orthomap\n",
    "\n",
    "# download pre-calculated orthomap here: https://doi.org/10.5281/zenodo.7242263\n",
    "# or download with datasets.sun21_orthomap(datapath='data')\n",
    "query_orthomap = orthomap2tei.read_orthomap(orthomapfile='data/Sun2021_Orthomap.tsv')\n",
    "query_orthomap"
   ]
  },
  {
   "cell_type": "markdown",
   "id": "651e303a",
   "metadata": {},
   "source": [
    "### Gene age assignments per query species lineage node\n",
    "\n",
    "Given a pre-calculated orthomap, one can still get an overview of the gene age assignments per query species lineage node.\n",
    "\n",
    "However, since it might be that some columns are missing which normally are produced by the `of2orthomap.get_orthomap()`function, the column names need to be set specifically with the `of2orthomap.get_counts_per_ps()` function to visualize the distribution of the gene age classes as follows:"
   ]
  },
  {
   "cell_type": "code",
   "execution_count": 14,
   "id": "a368c4ab",
   "metadata": {},
   "outputs": [
    {
     "data": {
      "text/html": [
       "<div>\n",
       "<style scoped>\n",
       "    .dataframe tbody tr th:only-of-type {\n",
       "        vertical-align: middle;\n",
       "    }\n",
       "\n",
       "    .dataframe tbody tr th {\n",
       "        vertical-align: top;\n",
       "    }\n",
       "\n",
       "    .dataframe thead th {\n",
       "        text-align: right;\n",
       "    }\n",
       "</style>\n",
       "<table border=\"1\" class=\"dataframe\">\n",
       "  <thead>\n",
       "    <tr style=\"text-align: right;\">\n",
       "      <th></th>\n",
       "      <th>Phylostratum</th>\n",
       "      <th>counts</th>\n",
       "    </tr>\n",
       "    <tr>\n",
       "      <th>Phylostratum</th>\n",
       "      <th></th>\n",
       "      <th></th>\n",
       "    </tr>\n",
       "  </thead>\n",
       "  <tbody>\n",
       "    <tr>\n",
       "      <th>0</th>\n",
       "      <td>0</td>\n",
       "      <td>1290</td>\n",
       "    </tr>\n",
       "    <tr>\n",
       "      <th>1</th>\n",
       "      <td>1</td>\n",
       "      <td>5434</td>\n",
       "    </tr>\n",
       "    <tr>\n",
       "      <th>2</th>\n",
       "      <td>2</td>\n",
       "      <td>4666</td>\n",
       "    </tr>\n",
       "    <tr>\n",
       "      <th>3</th>\n",
       "      <td>3</td>\n",
       "      <td>603</td>\n",
       "    </tr>\n",
       "    <tr>\n",
       "      <th>4</th>\n",
       "      <td>4</td>\n",
       "      <td>1039</td>\n",
       "    </tr>\n",
       "    <tr>\n",
       "      <th>5</th>\n",
       "      <td>5</td>\n",
       "      <td>808</td>\n",
       "    </tr>\n",
       "    <tr>\n",
       "      <th>6</th>\n",
       "      <td>6</td>\n",
       "      <td>274</td>\n",
       "    </tr>\n",
       "    <tr>\n",
       "      <th>7</th>\n",
       "      <td>7</td>\n",
       "      <td>884</td>\n",
       "    </tr>\n",
       "    <tr>\n",
       "      <th>8</th>\n",
       "      <td>8</td>\n",
       "      <td>590</td>\n",
       "    </tr>\n",
       "    <tr>\n",
       "      <th>9</th>\n",
       "      <td>9</td>\n",
       "      <td>511</td>\n",
       "    </tr>\n",
       "    <tr>\n",
       "      <th>10</th>\n",
       "      <td>10</td>\n",
       "      <td>384</td>\n",
       "    </tr>\n",
       "    <tr>\n",
       "      <th>11</th>\n",
       "      <td>11</td>\n",
       "      <td>1113</td>\n",
       "    </tr>\n",
       "    <tr>\n",
       "      <th>12</th>\n",
       "      <td>12</td>\n",
       "      <td>1277</td>\n",
       "    </tr>\n",
       "    <tr>\n",
       "      <th>13</th>\n",
       "      <td>13</td>\n",
       "      <td>1167</td>\n",
       "    </tr>\n",
       "  </tbody>\n",
       "</table>\n",
       "</div>"
      ],
      "text/plain": [
       "              Phylostratum  counts\n",
       "Phylostratum                      \n",
       "0                        0    1290\n",
       "1                        1    5434\n",
       "2                        2    4666\n",
       "3                        3     603\n",
       "4                        4    1039\n",
       "5                        5     808\n",
       "6                        6     274\n",
       "7                        7     884\n",
       "8                        8     590\n",
       "9                        9     511\n",
       "10                      10     384\n",
       "11                      11    1113\n",
       "12                      12    1277\n",
       "13                      13    1167"
      ]
     },
     "execution_count": 14,
     "metadata": {},
     "output_type": "execute_result"
    }
   ],
   "source": [
    "# show count per taxonomic group (Phylostratum)\n",
    "of2orthomap.get_counts_per_ps(omap_df=query_orthomap,\n",
    "    psnum_col='Phylostratum',\n",
    "    pstaxid_col=None,\n",
    "    psname_col=None)"
   ]
  },
  {
   "cell_type": "code",
   "execution_count": 15,
   "id": "8b0ecd1a",
   "metadata": {},
   "outputs": [
    {
     "data": {
      "image/png": "[encoded data removed]",
      "text/plain": [
       "<Figure size 600x450 with 1 Axes>"
      ]
     },
     "metadata": {},
     "output_type": "display_data"
    }
   ],
   "source": [
    "# bar plot count per taxonomic group (Phylostratum)\n",
    "ax = of2orthomap.get_counts_per_ps(omap_df=query_orthomap,\n",
    "    psnum_col='Phylostratum',\n",
    "    pstaxid_col=None,\n",
    "    psname_col=None).plot.bar(y='counts', x='Phylostratum')\n",
    "ax.set_title('C. elegans - Number of genes per gene age class')\n",
    "plt.show()"
   ]
  },
  {
   "cell_type": "markdown",
   "id": "afdb8179",
   "metadata": {},
   "source": [
    "If you like to continue, please have a look at the documentation of [Step 3 - map gene/transcript IDs](https://orthomap.readthedocs.io/en/latest/tutorials/geneset_overlap.html) to get further insides."
   ]
  }
 ],
 "metadata": {
  "kernelspec": {
   "display_name": "Python [conda env:scanpy]",
   "language": "python",
   "name": "conda-env-scanpy-py"
  },
  "language_info": {
   "codemirror_mode": {
    "name": "ipython",
    "version": 3
   },
   "file_extension": ".py",
   "mimetype": "text/x-python",
   "name": "python",
   "nbconvert_exporter": "python",
   "pygments_lexer": "ipython3",
   "version": "3.8.15"
  }
 },
 "nbformat": 4,
 "nbformat_minor": 5
}
